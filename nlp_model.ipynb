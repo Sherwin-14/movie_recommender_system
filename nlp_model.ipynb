{
 "cells": [
  {
   "cell_type": "code",
   "execution_count": 1,
   "id": "eb5431cc-e4f2-443c-85c8-76feaee51d11",
   "metadata": {},
   "outputs": [],
   "source": [
    "import pandas as pd\n",
    "import numpy as np"
   ]
  },
  {
   "cell_type": "code",
   "execution_count": 2,
   "id": "8542b5e3-2f72-45b0-be05-fc1a56882cdb",
   "metadata": {},
   "outputs": [],
   "source": [
    "df1=pd.read_csv('/var/home/sherwin/Downloads/rotten_tomatoes_reviews.csv')"
   ]
  },
  {
   "cell_type": "code",
   "execution_count": 80,
   "id": "3e5fe095-8e99-4eaa-8c40-82b1eaa2e06d",
   "metadata": {},
   "outputs": [],
   "source": [
    "df1=df1.sample(50000)"
   ]
  },
  {
   "cell_type": "code",
   "execution_count": 81,
   "id": "bc3ad458-c2f0-4e6b-bb41-78b8e9ce0fac",
   "metadata": {},
   "outputs": [
    {
     "data": {
      "text/plain": [
       "(50000, 2)"
      ]
     },
     "execution_count": 81,
     "metadata": {},
     "output_type": "execute_result"
    }
   ],
   "source": [
    "df1.shape"
   ]
  },
  {
   "cell_type": "code",
   "execution_count": 82,
   "id": "f0ddd58c-6841-40c1-b026-45699eeff715",
   "metadata": {},
   "outputs": [
    {
     "name": "stdout",
     "output_type": "stream",
     "text": [
      "<class 'pandas.core.frame.DataFrame'>\n",
      "Int64Index: 50000 entries, 112127 to 168233\n",
      "Data columns (total 2 columns):\n",
      " #   Column     Non-Null Count  Dtype \n",
      "---  ------     --------------  ----- \n",
      " 0   Freshness  50000 non-null  uint8 \n",
      " 1   Review     50000 non-null  object\n",
      "dtypes: object(1), uint8(1)\n",
      "memory usage: 830.1+ KB\n"
     ]
    }
   ],
   "source": [
    "df1.info()"
   ]
  },
  {
   "cell_type": "code",
   "execution_count": 83,
   "id": "084ace8f-16eb-404b-a783-5d80b83dfa47",
   "metadata": {},
   "outputs": [
    {
     "data": {
      "text/html": [
       "<div>\n",
       "<style scoped>\n",
       "    .dataframe tbody tr th:only-of-type {\n",
       "        vertical-align: middle;\n",
       "    }\n",
       "\n",
       "    .dataframe tbody tr th {\n",
       "        vertical-align: top;\n",
       "    }\n",
       "\n",
       "    .dataframe thead th {\n",
       "        text-align: right;\n",
       "    }\n",
       "</style>\n",
       "<table border=\"1\" class=\"dataframe\">\n",
       "  <thead>\n",
       "    <tr style=\"text-align: right;\">\n",
       "      <th></th>\n",
       "      <th>Freshness</th>\n",
       "      <th>Review</th>\n",
       "    </tr>\n",
       "  </thead>\n",
       "  <tbody>\n",
       "    <tr>\n",
       "      <th>112127</th>\n",
       "      <td>0</td>\n",
       "      <td>cornucopia ridicul top action humor romanc con...</td>\n",
       "    </tr>\n",
       "    <tr>\n",
       "      <th>150011</th>\n",
       "      <td>1</td>\n",
       "      <td>affabl entertain road movi smart map charact u...</td>\n",
       "    </tr>\n",
       "    <tr>\n",
       "      <th>475578</th>\n",
       "      <td>1</td>\n",
       "      <td>seek relea seem limit provid welcom antidot st...</td>\n",
       "    </tr>\n",
       "    <tr>\n",
       "      <th>340979</th>\n",
       "      <td>1</td>\n",
       "      <td>broomfield voiceov commentari sound like bad r...</td>\n",
       "    </tr>\n",
       "    <tr>\n",
       "      <th>402887</th>\n",
       "      <td>1</td>\n",
       "      <td>provoc quiet drama</td>\n",
       "    </tr>\n",
       "  </tbody>\n",
       "</table>\n",
       "</div>"
      ],
      "text/plain": [
       "        Freshness                                             Review\n",
       "112127          0  cornucopia ridicul top action humor romanc con...\n",
       "150011          1  affabl entertain road movi smart map charact u...\n",
       "475578          1  seek relea seem limit provid welcom antidot st...\n",
       "340979          1  broomfield voiceov commentari sound like bad r...\n",
       "402887          1                                 provoc quiet drama"
      ]
     },
     "execution_count": 83,
     "metadata": {},
     "output_type": "execute_result"
    }
   ],
   "source": [
    "df1.head()"
   ]
  },
  {
   "cell_type": "code",
   "execution_count": 84,
   "id": "a5deda28-3a5e-494e-bff8-d53952672e23",
   "metadata": {},
   "outputs": [],
   "source": [
    "def convert_lower(text):\n",
    "    return text.lower()"
   ]
  },
  {
   "cell_type": "code",
   "execution_count": 85,
   "id": "3566186a-a458-4a2b-85b6-a951413c6337",
   "metadata": {},
   "outputs": [],
   "source": [
    "df1['Review']=df1['Review'].apply(convert_lower)"
   ]
  },
  {
   "cell_type": "code",
   "execution_count": 86,
   "id": "6a6de2ca-0a5e-4ccb-b6c0-051874f6ca92",
   "metadata": {},
   "outputs": [],
   "source": [
    "def remove_special(text):\n",
    "    x=''\n",
    "    for i in text:\n",
    "        if i.isalnum():\n",
    "            x=x+i\n",
    "        else:\n",
    "            x=x+' '\n",
    "    return x"
   ]
  },
  {
   "cell_type": "code",
   "execution_count": 87,
   "id": "47907f88-5ef9-4fca-add5-8980bdd33986",
   "metadata": {},
   "outputs": [],
   "source": [
    "df1['Review']=df1['Review'].apply(remove_special)"
   ]
  },
  {
   "cell_type": "code",
   "execution_count": 88,
   "id": "c159fa0c-4829-4af6-b024-d1685289aeb4",
   "metadata": {},
   "outputs": [],
   "source": [
    "import nltk\n",
    "\n",
    "from nltk.corpus import stopwords"
   ]
  },
  {
   "cell_type": "code",
   "execution_count": 89,
   "id": "326af160-a888-41b2-81db-64f795183ef8",
   "metadata": {},
   "outputs": [
    {
     "name": "stderr",
     "output_type": "stream",
     "text": [
      "[nltk_data] Error loading stopwords: <urlopen error [Errno -3]\n",
      "[nltk_data]     Temporary failure in name resolution>\n"
     ]
    },
    {
     "data": {
      "text/plain": [
       "False"
      ]
     },
     "execution_count": 89,
     "metadata": {},
     "output_type": "execute_result"
    }
   ],
   "source": [
    "nltk.download('stopwords')"
   ]
  },
  {
   "cell_type": "code",
   "execution_count": 90,
   "id": "f1db18a6-75cf-4ed8-b41c-d638a04c0392",
   "metadata": {},
   "outputs": [],
   "source": [
    "def remove_stopwords(text):\n",
    "    x=[]\n",
    "    for i in text.split():\n",
    "        if i not in stopwords.words('english'):\n",
    "            x.append(i)\n",
    "    y=x[:]\n",
    "    x.clear()\n",
    "    return y"
   ]
  },
  {
   "cell_type": "code",
   "execution_count": 91,
   "id": "970c21e1-ded7-4380-9387-66193c629c33",
   "metadata": {},
   "outputs": [],
   "source": [
    "df1['Review']=df1['Review'].apply(remove_stopwords)"
   ]
  },
  {
   "cell_type": "code",
   "execution_count": 92,
   "id": "dabf4f1e-57cf-4cf0-94b5-182c4ec1e1d2",
   "metadata": {},
   "outputs": [],
   "source": [
    "from nltk.stem.porter import PorterStemmer\n",
    "ps=PorterStemmer()"
   ]
  },
  {
   "cell_type": "code",
   "execution_count": 93,
   "id": "502556ed-a7b9-493a-acde-b1322f32542e",
   "metadata": {},
   "outputs": [],
   "source": [
    "y=[]\n",
    "def stem_words(text):\n",
    "    for i in text:\n",
    "        y.append(ps.stem(i))\n",
    "    Z=y[:]\n",
    "    y.clear()\n",
    "    return Z"
   ]
  },
  {
   "cell_type": "code",
   "execution_count": 94,
   "id": "b79111b2-4416-4026-a697-8255e054d27b",
   "metadata": {},
   "outputs": [],
   "source": [
    "df1['Review']=df1['Review'].apply(stem_words)"
   ]
  },
  {
   "cell_type": "code",
   "execution_count": 95,
   "id": "aeb97e9d-d9eb-483a-8e0e-e9a31b11ae58",
   "metadata": {},
   "outputs": [],
   "source": [
    "def join_back(list_input):\n",
    "    return \" \".join(list_input)"
   ]
  },
  {
   "cell_type": "code",
   "execution_count": 96,
   "id": "5627ea51-0d0f-475d-a8a5-18318b25ad47",
   "metadata": {},
   "outputs": [],
   "source": [
    "df1['Review']=df1['Review'].apply(join_back)"
   ]
  },
  {
   "cell_type": "code",
   "execution_count": 97,
   "id": "d8f398f1-1794-4939-8d5d-3fc97fb0c616",
   "metadata": {},
   "outputs": [],
   "source": [
    "df1['Freshness'] = df1['Freshness'].astype(np.uint8)"
   ]
  },
  {
   "cell_type": "code",
   "execution_count": 98,
   "id": "95ee8d78-5e75-4f93-9adc-bc6795026eb3",
   "metadata": {},
   "outputs": [
    {
     "name": "stdout",
     "output_type": "stream",
     "text": [
      "<class 'pandas.core.frame.DataFrame'>\n",
      "Int64Index: 50000 entries, 112127 to 168233\n",
      "Data columns (total 2 columns):\n",
      " #   Column     Non-Null Count  Dtype \n",
      "---  ------     --------------  ----- \n",
      " 0   Freshness  50000 non-null  uint8 \n",
      " 1   Review     50000 non-null  object\n",
      "dtypes: object(1), uint8(1)\n",
      "memory usage: 830.1+ KB\n"
     ]
    }
   ],
   "source": [
    "df1.info()"
   ]
  },
  {
   "cell_type": "code",
   "execution_count": 99,
   "id": "675b54c7-06a3-4acf-9481-524592f7b3bd",
   "metadata": {},
   "outputs": [],
   "source": [
    "from sklearn.feature_extraction.text import CountVectorizer\n",
    "cv=CountVectorizer()"
   ]
  },
  {
   "cell_type": "code",
   "execution_count": 100,
   "id": "4a69705d-4384-4070-8a67-847e992fc954",
   "metadata": {},
   "outputs": [],
   "source": [
    "X=cv.fit_transform(df1['Review']).toarray()"
   ]
  },
  {
   "cell_type": "code",
   "execution_count": null,
   "id": "29d636af-c3bd-41ec-b153-ac45610181d1",
   "metadata": {},
   "outputs": [],
   "source": []
  },
  {
   "cell_type": "code",
   "execution_count": null,
   "id": "6036d088-3660-4ffc-a116-2772a90a9308",
   "metadata": {},
   "outputs": [],
   "source": []
  }
 ],
 "metadata": {
  "kernelspec": {
   "display_name": "Python 3 (ipykernel)",
   "language": "python",
   "name": "python3"
  },
  "language_info": {
   "codemirror_mode": {
    "name": "ipython",
    "version": 3
   },
   "file_extension": ".py",
   "mimetype": "text/x-python",
   "name": "python",
   "nbconvert_exporter": "python",
   "pygments_lexer": "ipython3",
   "version": "3.11.8"
  }
 },
 "nbformat": 4,
 "nbformat_minor": 5
}
